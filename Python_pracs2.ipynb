{
 "cells": [
  {
   "cell_type": "markdown",
   "metadata": {},
   "source": [
    "### Attriibute"
   ]
  },
  {
   "cell_type": "code",
   "execution_count": 1,
   "metadata": {},
   "outputs": [],
   "source": [
    "class Employee:\n",
    "    company= 'Google' ## Class attriibute\n",
    "    \n",
    "vishakha= Employee()  "
   ]
  },
  {
   "cell_type": "code",
   "execution_count": 2,
   "metadata": {},
   "outputs": [
    {
     "data": {
      "text/plain": [
       "'Google'"
      ]
     },
     "execution_count": 2,
     "metadata": {},
     "output_type": "execute_result"
    }
   ],
   "source": [
    "vishakha.company"
   ]
  },
  {
   "cell_type": "code",
   "execution_count": 3,
   "metadata": {},
   "outputs": [],
   "source": [
    "vishakha.company= 'TCS'  ## Instance attriibute"
   ]
  },
  {
   "cell_type": "code",
   "execution_count": 4,
   "metadata": {},
   "outputs": [
    {
     "name": "stdout",
     "output_type": "stream",
     "text": [
      "TCS\n"
     ]
    }
   ],
   "source": [
    "print(vishakha.company)"
   ]
  },
  {
   "cell_type": "code",
   "execution_count": 5,
   "metadata": {},
   "outputs": [],
   "source": [
    "Employee.company= 'Microsoft'"
   ]
  },
  {
   "cell_type": "code",
   "execution_count": 6,
   "metadata": {},
   "outputs": [
    {
     "name": "stdout",
     "output_type": "stream",
     "text": [
      "TCS\n"
     ]
    }
   ],
   "source": [
    "print(vishakha.company)"
   ]
  },
  {
   "cell_type": "code",
   "execution_count": 7,
   "metadata": {},
   "outputs": [
    {
     "name": "stdout",
     "output_type": "stream",
     "text": [
      "Microsoft\n"
     ]
    }
   ],
   "source": [
    "babu= Employee() \n",
    "print(babu.company)"
   ]
  },
  {
   "cell_type": "code",
   "execution_count": 21,
   "metadata": {},
   "outputs": [
    {
     "name": "stdout",
     "output_type": "stream",
     "text": [
      "Salary of emp working at Google is 1000000\n"
     ]
    }
   ],
   "source": [
    "class Employee:\n",
    "    company= 'Google' ## Class attriibute\n",
    "    \n",
    "    def getSalary(self):\n",
    "        print(f\"Salary of emp working at {self.company} is {self.salary}\")\n",
    "    \n",
    "obj= Employee()  \n",
    "obj.salary= 1000000\n",
    "obj.getSalary()\n"
   ]
  },
  {
   "cell_type": "markdown",
   "metadata": {},
   "source": [
    "### staticmethod"
   ]
  },
  {
   "cell_type": "code",
   "execution_count": 75,
   "metadata": {},
   "outputs": [
    {
     "name": "stdout",
     "output_type": "stream",
     "text": [
      "Hello! User\n",
      "Salary of Vishakha working at Google is 1000000\n"
     ]
    }
   ],
   "source": [
    "class Employee:\n",
    "    company= 'Google' ## Class attriibute\n",
    "    \n",
    "    def getSalary(self, name):\n",
    "        print(f\"Salary of {name} working at {self.company} is {self.salary}\")\n",
    "    \n",
    "    @staticmethod\n",
    "    def greet(name):\n",
    "        print(f'Hello! {name}')\n",
    "    \n",
    "obj= Employee() \n",
    "obj.greet('User')\n",
    "obj.salary= 1000000\n",
    "obj.getSalary('Vishakha')"
   ]
  },
  {
   "cell_type": "markdown",
   "metadata": {},
   "source": [
    "###  \"__init__\" Constructor"
   ]
  },
  {
   "cell_type": "code",
   "execution_count": 57,
   "metadata": {},
   "outputs": [
    {
     "name": "stdout",
     "output_type": "stream",
     "text": [
      "I'm a constructor! Google\n"
     ]
    }
   ],
   "source": [
    "class Employee:\n",
    "    company= 'Google' ## Class attriibute\n",
    "    \n",
    "    def __init__(self):\n",
    "        print(f\"I'm a constructor! {self.company}\")\n",
    "    \n",
    "obj= Employee()  "
   ]
  },
  {
   "cell_type": "code",
   "execution_count": 55,
   "metadata": {},
   "outputs": [
    {
     "name": "stdout",
     "output_type": "stream",
     "text": [
      "Hello  User, I'm a constructor! \n",
      "Salary of Vishakha working at Google is 2192939\n"
     ]
    }
   ],
   "source": [
    "class Employee:\n",
    "    \n",
    "    def __init__(self, name, company, salary, user):\n",
    "        \n",
    "        self.n = name\n",
    "        self.c = company\n",
    "        self.sal = salary \n",
    "        print(f\"Hello {user}, I'm a constructor! \")\n",
    "    \n",
    "    def getSalary(self):\n",
    "        print(f\"Salary of {self.n} working at {self.c} is {self.sal}\" )\n",
    "\n",
    "    \n",
    "obj= Employee('Vishakha','Google', 2192939,' User')  \n",
    "\n",
    "obj.getSalary()\n"
   ]
  },
  {
   "cell_type": "markdown",
   "metadata": {},
   "source": [
    "## 1."
   ]
  },
  {
   "cell_type": "code",
   "execution_count": 62,
   "metadata": {},
   "outputs": [
    {
     "name": "stdout",
     "output_type": "stream",
     "text": [
      " Paresh is working on obi project at Microsoft\n",
      " Varsha is working on Html project at Microsoft\n"
     ]
    }
   ],
   "source": [
    "class Programmer:\n",
    "    company= 'Microsoft'\n",
    "    \n",
    "    def __init__(self, name, project):\n",
    "        print(f\" {name} is working on {project} project at {self.company}\")\n",
    "            \n",
    "paresh= Programmer('Paresh','obi')     \n",
    "varsha= Programmer('Varsha', 'Html')     "
   ]
  },
  {
   "cell_type": "markdown",
   "metadata": {},
   "source": [
    "## 2."
   ]
  },
  {
   "cell_type": "code",
   "execution_count": 74,
   "metadata": {},
   "outputs": [
    {
     "name": "stdout",
     "output_type": "stream",
     "text": [
      "The Square of 9 is 81\n",
      "The Cube of 9 is 729\n",
      "The Square root of 9 is 3.0\n"
     ]
    }
   ],
   "source": [
    "class Calculator:\n",
    "    \n",
    "    def __init__(self, num):\n",
    "        self.number= num\n",
    "        \n",
    "    def square(self):\n",
    "        print(f\"The Square of {self.number} is {self.number **2}\")\n",
    "        \n",
    "    def cube(self):\n",
    "        print(f\"The Cube of {self.number} is {self.number **3}\")\n",
    "    \n",
    "    def squareroot(self):\n",
    "        print(f\"The Square root of {self.number} is {self.number **0.5}\")\n",
    "    \n",
    "n1= Calculator(9)  \n",
    "n1.square()\n",
    "n1.cube()\n",
    "n1.squareroot()"
   ]
  },
  {
   "cell_type": "markdown",
   "metadata": {},
   "source": [
    "## 3."
   ]
  },
  {
   "cell_type": "code",
   "execution_count": 93,
   "metadata": {},
   "outputs": [
    {
     "name": "stdout",
     "output_type": "stream",
     "text": [
      "*****************\n",
      " The train fare is 400\n",
      " The total available seats are 2\n",
      " The name of the train is Rajdhani\n",
      "*****************\n",
      " Your ticket is booked and seat no is 2\n",
      "*****************\n",
      " The train fare is 400\n",
      " The total available seats are 1\n",
      " The name of the train is Rajdhani\n",
      "*****************\n",
      " Your ticket is booked and seat no is 1\n",
      "*****************\n",
      " The train fare is 400\n",
      " The total available seats are 0\n",
      " The name of the train is Rajdhani\n",
      "*****************\n",
      " Your ticket is not booked as train is full\n"
     ]
    }
   ],
   "source": [
    "class Train:\n",
    "    \n",
    "    def __init__(self, name, seat, fare):\n",
    "        self.name = name\n",
    "        self.seat = seat\n",
    "        self.fare = fare     \n",
    "    \n",
    "    def getStatus(self):\n",
    "        print(\"*****************\")\n",
    "        print(f\" The train fare is {self.fare}\")\n",
    "        print(f\" The total available seats are {self.seat}\")\n",
    "        print(f\" The name of the train is {self.name}\")\n",
    "        print(\"*****************\")\n",
    "        \n",
    "    def ticketBook(self):\n",
    "        \n",
    "        if self.seat >= 1:\n",
    "            print(f\" Your ticket is booked and seat no is {self.seat}\")\n",
    "            self.seat -= 1\n",
    "        else:\n",
    "            print(f\" Your ticket is not booked as train is full\")\n",
    "    \n",
    "obj= Train('Rajdhani',2,400) \n",
    "\n",
    "obj.getStatus()\n",
    "obj.ticketBook()\n",
    "obj.getStatus()\n",
    "obj.ticketBook()\n",
    "obj.getStatus()\n",
    "obj.ticketBook()"
   ]
  }
 ],
 "metadata": {
  "kernelspec": {
   "display_name": "Python 3",
   "language": "python",
   "name": "python3"
  },
  "language_info": {
   "codemirror_mode": {
    "name": "ipython",
    "version": 3
   },
   "file_extension": ".py",
   "mimetype": "text/x-python",
   "name": "python",
   "nbconvert_exporter": "python",
   "pygments_lexer": "ipython3",
   "version": "3.7.9"
  }
 },
 "nbformat": 4,
 "nbformat_minor": 4
}
