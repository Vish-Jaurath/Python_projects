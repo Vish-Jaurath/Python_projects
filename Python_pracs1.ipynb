{
 "cells": [
  {
   "cell_type": "markdown",
   "metadata": {},
   "source": [
    "### Multiplication table"
   ]
  },
  {
   "cell_type": "code",
   "execution_count": 6,
   "metadata": {},
   "outputs": [
    {
     "name": "stdout",
     "output_type": "stream",
     "text": [
      "Enter a no: 2\n",
      " 1 * 2 = 2\n",
      " 2 * 2 = 4\n",
      " 3 * 2 = 6\n",
      " 4 * 2 = 8\n",
      " 5 * 2 = 10\n",
      " 6 * 2 = 12\n",
      " 7 * 2 = 14\n",
      " 8 * 2 = 16\n",
      " 9 * 2 = 18\n",
      " 10 * 2 = 20\n"
     ]
    }
   ],
   "source": [
    "num= int(input('Enter a no: '))\n",
    "for i in range(1, 11):\n",
    "    print( f\" {i} * {num} = {i*num}\")"
   ]
  },
  {
   "cell_type": "markdown",
   "metadata": {},
   "source": [
    "### Reversed Multiplication table"
   ]
  },
  {
   "cell_type": "code",
   "execution_count": 6,
   "metadata": {},
   "outputs": [
    {
     "name": "stdout",
     "output_type": "stream",
     "text": [
      "Enter a no: 2\n",
      " 10 * 2 = 20\n",
      " 9 * 2 = 18\n",
      " 8 * 2 = 16\n",
      " 7 * 2 = 14\n",
      " 6 * 2 = 12\n",
      " 5 * 2 = 10\n",
      " 4 * 2 = 8\n",
      " 3 * 2 = 6\n",
      " 2 * 2 = 4\n",
      " 1 * 2 = 2\n"
     ]
    }
   ],
   "source": [
    "num= int(input('Enter a no: '))\n",
    "for i in reversed(range(1, 11)):\n",
    "    print( f\" {i} * {num} = {i*num}\")"
   ]
  },
  {
   "cell_type": "code",
   "execution_count": 14,
   "metadata": {},
   "outputs": [
    {
     "name": "stdout",
     "output_type": "stream",
     "text": [
      "Enter a no: 2\n",
      " 10 * 2 = 20\n",
      " 9 * 2 = 18\n",
      " 8 * 2 = 16\n",
      " 7 * 2 = 14\n",
      " 6 * 2 = 12\n",
      " 5 * 2 = 10\n",
      " 4 * 2 = 8\n",
      " 3 * 2 = 6\n",
      " 2 * 2 = 4\n",
      " 1 * 2 = 2\n"
     ]
    }
   ],
   "source": [
    "num= int(input('Enter a no: '))\n",
    "for i in range(10, 0, -1):\n",
    "    print( f\" {i} * {num} = {i*num}\")    "
   ]
  },
  {
   "cell_type": "markdown",
   "metadata": {},
   "source": [
    "### Prime numbers"
   ]
  },
  {
   "cell_type": "code",
   "execution_count": 17,
   "metadata": {},
   "outputs": [
    {
     "name": "stdout",
     "output_type": "stream",
     "text": [
      "Enter a no: 7\n",
      "The given number is prime\n"
     ]
    }
   ],
   "source": [
    "num= int(input('Enter a no: '))\n",
    "prime= True\n",
    "\n",
    "for i in range(2,num):\n",
    "    if num%i ==0 :\n",
    "        prime= False\n",
    "        break\n",
    "if prime:\n",
    "    print('The given number is prime')\n",
    "else:\n",
    "    print('The given number is not prime')"
   ]
  },
  {
   "cell_type": "markdown",
   "metadata": {},
   "source": [
    "### Factorial"
   ]
  },
  {
   "cell_type": "code",
   "execution_count": 21,
   "metadata": {},
   "outputs": [
    {
     "name": "stdout",
     "output_type": "stream",
     "text": [
      "Enter a no: 5\n",
      "Factorial of 5 is 120\n"
     ]
    }
   ],
   "source": [
    "num= int(input('Enter a no: '))\n",
    "fact= 1\n",
    "\n",
    "for i in range(1, num+1):\n",
    "    fact *= i\n",
    "print(f'Factorial of {num} is {fact}')    "
   ]
  },
  {
   "cell_type": "markdown",
   "metadata": {},
   "source": [
    "### Pattern "
   ]
  },
  {
   "cell_type": "code",
   "execution_count": 21,
   "metadata": {},
   "outputs": [
    {
     "name": "stdout",
     "output_type": "stream",
     "text": [
      "Enter a no: 4\n",
      "*\n",
      "**\n",
      "***\n",
      "****\n"
     ]
    }
   ],
   "source": [
    "''' \n",
    "*\n",
    "**\n",
    "*** \n",
    "'''\n",
    "n= int(input('Enter a no: '))\n",
    "\n",
    "for i in range(n):\n",
    "    print( '*' * (i+1))"
   ]
  },
  {
   "cell_type": "code",
   "execution_count": 24,
   "metadata": {},
   "outputs": [
    {
     "name": "stdout",
     "output_type": "stream",
     "text": [
      "Enter a no: 3\n",
      "  *\n",
      " ***\n",
      "*****\n"
     ]
    }
   ],
   "source": [
    "''' *\n",
    "   ***\n",
    "  ***** \n",
    "'''\n",
    "\n",
    "n= int(input('Enter a no: '))\n",
    "\n",
    "for i in range(n):\n",
    "    print( ' ' * (n-i-1), end='')\n",
    "    print( '*' * (2*i+1))"
   ]
  },
  {
   "cell_type": "code",
   "execution_count": 37,
   "metadata": {},
   "outputs": [
    {
     "name": "stdout",
     "output_type": "stream",
     "text": [
      "Good morning Vishakha\n"
     ]
    }
   ],
   "source": [
    "def greet(name):\n",
    "    print('Good morning ' + name)\n",
    "    \n",
    "greet('Vishakha')"
   ]
  },
  {
   "cell_type": "code",
   "execution_count": 38,
   "metadata": {},
   "outputs": [],
   "source": [
    "import pandas as pd"
   ]
  },
  {
   "cell_type": "code",
   "execution_count": 45,
   "metadata": {},
   "outputs": [
    {
     "name": "stdout",
     "output_type": "stream",
     "text": [
      "{'Computer': 1500, 'Monitor': 300, 'Printer': 150, 'Desk': 250}\n"
     ]
    },
    {
     "data": {
      "text/html": [
       "<div>\n",
       "<style scoped>\n",
       "    .dataframe tbody tr th:only-of-type {\n",
       "        vertical-align: middle;\n",
       "    }\n",
       "\n",
       "    .dataframe tbody tr th {\n",
       "        vertical-align: top;\n",
       "    }\n",
       "\n",
       "    .dataframe thead th {\n",
       "        text-align: right;\n",
       "    }\n",
       "</style>\n",
       "<table border=\"1\" class=\"dataframe\">\n",
       "  <thead>\n",
       "    <tr style=\"text-align: right;\">\n",
       "      <th></th>\n",
       "      <th>Products</th>\n",
       "      <th>Prices</th>\n",
       "    </tr>\n",
       "  </thead>\n",
       "  <tbody>\n",
       "    <tr>\n",
       "      <th>0</th>\n",
       "      <td>Computer</td>\n",
       "      <td>1500</td>\n",
       "    </tr>\n",
       "    <tr>\n",
       "      <th>1</th>\n",
       "      <td>Monitor</td>\n",
       "      <td>300</td>\n",
       "    </tr>\n",
       "    <tr>\n",
       "      <th>2</th>\n",
       "      <td>Printer</td>\n",
       "      <td>150</td>\n",
       "    </tr>\n",
       "    <tr>\n",
       "      <th>3</th>\n",
       "      <td>Desk</td>\n",
       "      <td>250</td>\n",
       "    </tr>\n",
       "  </tbody>\n",
       "</table>\n",
       "</div>"
      ],
      "text/plain": [
       "   Products  Prices\n",
       "0  Computer    1500\n",
       "1   Monitor     300\n",
       "2   Printer     150\n",
       "3      Desk     250"
      ]
     },
     "execution_count": 45,
     "metadata": {},
     "output_type": "execute_result"
    }
   ],
   "source": [
    "my_dict = {'Computer':1500,'Monitor':300,'Printer':150,'Desk':250}\n",
    "\n",
    "print (my_dict)\n",
    "\n",
    "df = pd.DataFrame(list(my_dict.items()),columns = ['Products','Prices'])\n",
    "df"
   ]
  },
  {
   "cell_type": "code",
   "execution_count": 52,
   "metadata": {},
   "outputs": [],
   "source": [
    "df1 = pd.DataFrame({'consumption': [10.51, 103.11, 55.48],\n",
    "                   'co2_emissions': [37.2, 19.66, 1712]},\n",
    "                   index=['Pork', 'Wheat Products', 'Beef'])"
   ]
  },
  {
   "cell_type": "code",
   "execution_count": 53,
   "metadata": {},
   "outputs": [
    {
     "data": {
      "text/plain": [
       "consumption      Wheat Products\n",
       "co2_emissions              Beef\n",
       "dtype: object"
      ]
     },
     "execution_count": 53,
     "metadata": {},
     "output_type": "execute_result"
    }
   ],
   "source": [
    "df1.idxmax()"
   ]
  },
  {
   "cell_type": "code",
   "execution_count": 54,
   "metadata": {},
   "outputs": [
    {
     "data": {
      "text/html": [
       "<div>\n",
       "<style scoped>\n",
       "    .dataframe tbody tr th:only-of-type {\n",
       "        vertical-align: middle;\n",
       "    }\n",
       "\n",
       "    .dataframe tbody tr th {\n",
       "        vertical-align: top;\n",
       "    }\n",
       "\n",
       "    .dataframe thead th {\n",
       "        text-align: right;\n",
       "    }\n",
       "</style>\n",
       "<table border=\"1\" class=\"dataframe\">\n",
       "  <thead>\n",
       "    <tr style=\"text-align: right;\">\n",
       "      <th></th>\n",
       "      <th>consumption</th>\n",
       "      <th>co2_emissions</th>\n",
       "    </tr>\n",
       "  </thead>\n",
       "  <tbody>\n",
       "    <tr>\n",
       "      <th>Pork</th>\n",
       "      <td>10.51</td>\n",
       "      <td>37.20</td>\n",
       "    </tr>\n",
       "    <tr>\n",
       "      <th>Wheat Products</th>\n",
       "      <td>103.11</td>\n",
       "      <td>19.66</td>\n",
       "    </tr>\n",
       "    <tr>\n",
       "      <th>Beef</th>\n",
       "      <td>55.48</td>\n",
       "      <td>1712.00</td>\n",
       "    </tr>\n",
       "  </tbody>\n",
       "</table>\n",
       "</div>"
      ],
      "text/plain": [
       "                consumption  co2_emissions\n",
       "Pork                  10.51          37.20\n",
       "Wheat Products       103.11          19.66\n",
       "Beef                  55.48        1712.00"
      ]
     },
     "execution_count": 54,
     "metadata": {},
     "output_type": "execute_result"
    }
   ],
   "source": [
    "df1"
   ]
  }
 ],
 "metadata": {
  "kernelspec": {
   "display_name": "Python 3",
   "language": "python",
   "name": "python3"
  },
  "language_info": {
   "codemirror_mode": {
    "name": "ipython",
    "version": 3
   },
   "file_extension": ".py",
   "mimetype": "text/x-python",
   "name": "python",
   "nbconvert_exporter": "python",
   "pygments_lexer": "ipython3",
   "version": "3.7.9"
  }
 },
 "nbformat": 4,
 "nbformat_minor": 4
}
