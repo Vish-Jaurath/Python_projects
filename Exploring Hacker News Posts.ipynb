{
 "cells": [
  {
   "cell_type": "markdown",
   "metadata": {
    "collapsed": true
   },
   "source": [
    "##  <center> Exploring Hacker News Posts </center>"
   ]
  },
  {
   "cell_type": "markdown",
   "metadata": {},
   "source": [
    "In this project, I have worked on Hacker News dataset where user-submitted stories (known as \"posts\") are voted and commented upon, similar to reddit to analyze the data to identify \"Do posts created at a certain time receive more comments on average?\""
   ]
  },
  {
   "cell_type": "code",
   "execution_count": 1,
   "metadata": {
    "scrolled": true
   },
   "outputs": [],
   "source": [
    "# Reading of csv's\n",
    "\n",
    "from csv import reader\n",
    "opened_file= open(\"hacker_news.csv\")\n",
    "read_file= reader(opened_file)\n",
    "hn_list=list(read_file)\n",
    "hn_header= hn_list[0]\n",
    "hn= hn_list[1:]"
   ]
  },
  {
   "cell_type": "code",
   "execution_count": 2,
   "metadata": {},
   "outputs": [],
   "source": [
    "# Function to explore dataset.\n",
    "\n",
    "def explore_data(dataset, start, end, rows_and_columns=False):\n",
    "    dataset_slice = dataset[start:end]    \n",
    "    for row in dataset_slice:\n",
    "        print(row)\n",
    "        print('\\n') \n",
    "    if rows_and_columns:\n",
    "        print('Number of rows:', len(dataset))\n",
    "        print('Number of columns:', len(dataset[0]))"
   ]
  },
  {
   "cell_type": "code",
   "execution_count": 3,
   "metadata": {},
   "outputs": [
    {
     "name": "stdout",
     "output_type": "stream",
     "text": [
      "['12224879', 'Interactive Dynamic Video', 'http://www.interactivedynamicvideo.com/', '386', '52', 'ne0phyte', '8/4/2016 11:52']\n",
      "\n",
      "\n",
      "['10975351', 'How to Use Open Source and Shut the Fuck Up at the Same Time', 'http://hueniverse.com/2016/01/26/how-to-use-open-source-and-shut-the-fuck-up-at-the-same-time/', '39', '10', 'josep2', '1/26/2016 19:30']\n",
      "\n",
      "\n",
      "['11964716', \"Florida DJs May Face Felony for April Fools' Water Joke\", 'http://www.thewire.com/entertainment/2013/04/florida-djs-april-fools-water-joke/63798/', '2', '1', 'vezycash', '6/23/2016 22:20']\n",
      "\n",
      "\n",
      "Number of rows: 20100\n",
      "Number of columns: 7\n"
     ]
    }
   ],
   "source": [
    "explore_data(hn, 0, 3, True)"
   ]
  },
  {
   "cell_type": "code",
   "execution_count": 4,
   "metadata": {},
   "outputs": [
    {
     "data": {
      "text/plain": [
       "['id', 'title', 'url', 'num_points', 'num_comments', 'author', 'created_at']"
      ]
     },
     "execution_count": 4,
     "metadata": {},
     "output_type": "execute_result"
    }
   ],
   "source": [
    "hn_header"
   ]
  },
  {
   "cell_type": "markdown",
   "metadata": {},
   "source": [
    "#### Extracting Ask HN and Show HN Posts\n",
    "\n",
    "Extracted post titles beginning with Ask HN or Show HN by creating new lists of lists containing just the data for those titles."
   ]
  },
  {
   "cell_type": "code",
   "execution_count": 5,
   "metadata": {},
   "outputs": [
    {
     "name": "stdout",
     "output_type": "stream",
     "text": [
      "1744\n",
      "1162\n",
      "17194\n"
     ]
    }
   ],
   "source": [
    "ask_posts= list()\n",
    "show_posts= list()\n",
    "other_posts= list()\n",
    "for row in hn:\n",
    "    title=row[1]\n",
    "    title=title.lower()\n",
    "    if title.startswith(\"ask hn\"):\n",
    "        ask_posts.append(row)\n",
    "    elif title.startswith(\"show hn\"):\n",
    "        show_posts.append(row)\n",
    "    else:\n",
    "        other_posts.append(row)\n",
    "print(len(ask_posts))    \n",
    "print(len(show_posts))  \n",
    "print(len(other_posts))  "
   ]
  },
  {
   "cell_type": "code",
   "execution_count": 6,
   "metadata": {
    "scrolled": false
   },
   "outputs": [
    {
     "name": "stdout",
     "output_type": "stream",
     "text": [
      "['12296411', 'Ask HN: How to improve my personal website?', '', '2', '6', 'ahmedbaracat', '8/16/2016 9:55']\n",
      "\n",
      "\n",
      "Number of rows: 1744\n",
      "Number of columns: 7\n"
     ]
    }
   ],
   "source": [
    "explore_data(ask_posts, 0, 1, True)"
   ]
  },
  {
   "cell_type": "code",
   "execution_count": 7,
   "metadata": {},
   "outputs": [
    {
     "name": "stdout",
     "output_type": "stream",
     "text": [
      "['10627194', 'Show HN: Wio Link  ESP8266 Based Web of Things Hardware Development Platform', 'https://iot.seeed.cc', '26', '22', 'kfihihc', '11/25/2015 14:03']\n",
      "\n",
      "\n",
      "Number of rows: 1162\n",
      "Number of columns: 7\n"
     ]
    }
   ],
   "source": [
    "explore_data(show_posts, 0, 1, True)"
   ]
  },
  {
   "cell_type": "markdown",
   "metadata": {},
   "source": [
    "#### Calculating the Average Number of Comments for Ask HN and Show HN Posts"
   ]
  },
  {
   "cell_type": "code",
   "execution_count": 8,
   "metadata": {},
   "outputs": [
    {
     "name": "stdout",
     "output_type": "stream",
     "text": [
      "Avgerage Ask comments:  14.038417431192661\n"
     ]
    }
   ],
   "source": [
    "# Total number of comments in ask posts\n",
    "\n",
    "total_ask_comments=0\n",
    "\n",
    "for row in ask_posts:\n",
    "    total_ask=int(row[4])\n",
    "    total_ask_comments += total_ask\n",
    "    avg_ask_comments = float(total_ask_comments/len(ask_posts))\n",
    "print('Avgerage Ask comments: ',avg_ask_comments)  \n",
    "                        "
   ]
  },
  {
   "cell_type": "code",
   "execution_count": 9,
   "metadata": {
    "scrolled": true
   },
   "outputs": [
    {
     "name": "stdout",
     "output_type": "stream",
     "text": [
      "Average Show Comments:  10.31669535283993\n"
     ]
    }
   ],
   "source": [
    "# Total number of comments in show posts\n",
    "\n",
    "total_show_comments=0\n",
    "\n",
    "for row in  show_posts:\n",
    "    total_show=int(row[4])\n",
    "    total_show_comments += total_show\n",
    "    avg_show_comments= float(total_show_comments/len(show_posts))\n",
    "print('Average Show Comments: ',avg_show_comments)\n",
    "    "
   ]
  },
  {
   "cell_type": "markdown",
   "metadata": {},
   "source": [
    "It's clear that Ask posts received more comments than Show posts."
   ]
  },
  {
   "cell_type": "markdown",
   "metadata": {},
   "source": [
    "####  Finding the Amount of Ask Posts and Comments by Hour Created\n",
    "\n",
    "Since ask posts are more likely to receive comments, I focused remaining analysis just on these posts."
   ]
  },
  {
   "cell_type": "markdown",
   "metadata": {},
   "source": [
    "I've determined if ask posts created at a certain time are more likely to attract comments. The following steps are used to perform this analysis:\n",
    "\n",
    "1. Calculate the amount of ask posts created in each hour of the day, along with the number of comments received.\n",
    "2. Calculate the average number of comments ask posts receive by hour created."
   ]
  },
  {
   "cell_type": "code",
   "execution_count": 16,
   "metadata": {},
   "outputs": [
    {
     "name": "stdout",
     "output_type": "stream",
     "text": [
      "{'09': 45, '13': 85, '10': 59, '14': 107, '16': 108, '23': 68, '12': 73, '17': 100, '15': 116, '21': 109, '20': 80, '02': 58, '18': 109, '03': 54, '05': 46, '19': 110, '01': 60, '22': 71, '08': 48, '04': 47, '00': 55, '06': 44, '07': 34, '11': 58}\n",
      "{'09': 90, '13': 170, '10': 118, '14': 214, '16': 216, '23': 136, '12': 146, '17': 200, '15': 232, '21': 218, '20': 160, '02': 116, '18': 218, '03': 108, '05': 92, '19': 220, '01': 120, '22': 142, '08': 96, '04': 94, '00': 110, '06': 88, '07': 68, '11': 116}\n"
     ]
    }
   ],
   "source": [
    "import datetime as dt\n",
    "\n",
    "result_list= list() #list of list\n",
    "\n",
    "for row in ask_posts:\n",
    "    result= list()\n",
    "    created_at= row[6]\n",
    "    result.append(created_at)\n",
    "    no_comment= int(row[4])\n",
    "    result.append(no_comment)\n",
    "    result_list.append(result)\n",
    "    \n",
    "counts_by_hour= dict()\n",
    "comments_by_hour= dict()\n",
    "\n",
    "for row in result_list:\n",
    "    date= row[0]\n",
    "    dateObj= dt.datetime.strptime(date,\"%m/%d/%Y %H:%M\") \n",
    "    hour= dateObj.strftime(\"%H\")\n",
    "    if hour not in counts_by_hour:\n",
    "        counts_by_hour[hour] =1\n",
    "        comments_by_hour[hour] =no_comment\n",
    "    else:\n",
    "        counts_by_hour[hour] += 1\n",
    "        comments_by_hour[hour] += no_comment\n",
    "         \n",
    "print(counts_by_hour)\n",
    "print(comments_by_hour)"
   ]
  },
  {
   "cell_type": "markdown",
   "metadata": {},
   "source": [
    "#### Calculating the Average Number of Comments for Ask HN Posts by Hour"
   ]
  },
  {
   "cell_type": "code",
   "execution_count": 17,
   "metadata": {},
   "outputs": [
    {
     "data": {
      "text/plain": [
       "24"
      ]
     },
     "execution_count": 17,
     "metadata": {},
     "output_type": "execute_result"
    }
   ],
   "source": [
    " len(comments_by_hour)"
   ]
  },
  {
   "cell_type": "code",
   "execution_count": 12,
   "metadata": {},
   "outputs": [
    {
     "data": {
      "text/plain": [
       "[['09', 3.75], ['13', 7.083333333333333], ['10', 4.916666666666667]]"
      ]
     },
     "execution_count": 12,
     "metadata": {},
     "output_type": "execute_result"
    }
   ],
   "source": [
    "avg_by_hour= list()\n",
    "\n",
    "for hour in comments_by_hour:      \n",
    "    avg_by_hour.append([hour, float(comments_by_hour[hour]/\n",
    "                        len(comments_by_hour))])\n",
    "avg_by_hour[:3]"
   ]
  },
  {
   "cell_type": "markdown",
   "metadata": {},
   "source": [
    "#### Sorting and Printing Values from a List of Lists"
   ]
  },
  {
   "cell_type": "code",
   "execution_count": 18,
   "metadata": {
    "scrolled": true
   },
   "outputs": [
    {
     "name": "stdout",
     "output_type": "stream",
     "text": [
      "[[3.75, '09'], [7.083333333333333, '13'], [4.916666666666667, '10'], [8.916666666666666, '14'], [9.0, '16']]\n"
     ]
    }
   ],
   "source": [
    "swap_avg_by_hour= list()\n",
    "\n",
    "for row in avg_by_hour:\n",
    "    swap_avg_by_hour.append([row[1],row[0]])\n",
    "    \n",
    "print(swap_avg_by_hour[:5])"
   ]
  },
  {
   "cell_type": "code",
   "execution_count": 19,
   "metadata": {},
   "outputs": [
    {
     "name": "stdout",
     "output_type": "stream",
     "text": [
      "Top 5 Hours for Ask Posts Comments:  [[9.666666666666666, '15'], [9.166666666666666, '19'], [9.083333333333334, '21'], [9.083333333333334, '18'], [9.0, '16']]\n"
     ]
    }
   ],
   "source": [
    "sorted_swap= sorted(swap_avg_by_hour,reverse= True)\n",
    "print('Top 5 Hours for Ask Posts Comments: ',sorted_swap[:5])"
   ]
  },
  {
   "cell_type": "code",
   "execution_count": 22,
   "metadata": {},
   "outputs": [
    {
     "name": "stdout",
     "output_type": "stream",
     "text": [
      "03:00: hour has 9.67 average comments per post\n",
      "07:00: hour has 9.17 average comments per post\n",
      "09:00: hour has 9.08 average comments per post\n",
      "06:00: hour has 9.08 average comments per post\n",
      "04:00: hour has 9.00 average comments per post\n"
     ]
    }
   ],
   "source": [
    "for row in sorted_swap[:5]:\n",
    "    hour=row[1]\n",
    "    hour= dt.datetime.strptime(hour,\"%H\")\n",
    "    hour=hour.strftime(\"%I:%M\")\n",
    "    avg=row[0]\n",
    "    print(\"{h}: hour has {a:.2f} average comments per post\".format(h=hour ,a= avg))    \n",
    "    "
   ]
  },
  {
   "cell_type": "markdown",
   "metadata": {},
   "source": [
    "#### As per my findings we should create post during 03:00 pm to receive the highest number of comments."
   ]
  }
 ],
 "metadata": {
  "kernelspec": {
   "display_name": "Python 3",
   "language": "python",
   "name": "python3"
  },
  "language_info": {
   "codemirror_mode": {
    "name": "ipython",
    "version": 3
   },
   "file_extension": ".py",
   "mimetype": "text/x-python",
   "name": "python",
   "nbconvert_exporter": "python",
   "pygments_lexer": "ipython3",
   "version": "3.8.2"
  }
 },
 "nbformat": 4,
 "nbformat_minor": 2
}
